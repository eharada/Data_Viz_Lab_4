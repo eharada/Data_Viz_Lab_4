{
 "cells": [
  {
   "cell_type": "markdown",
   "metadata": {},
   "source": [
    "Import BeautifulSoup to get the data from the websites.\n",
    "Import Requests to send a get request to the websites. Will go hand in hand with BeautifulSoup.\n",
    "Import re to search for salaries"
   ]
  },
  {
   "cell_type": "code",
   "execution_count": 18,
   "metadata": {},
   "outputs": [],
   "source": [
    "from bs4 import BeautifulSoup\n",
    "import requests as rq\n",
    "import pandas as pd\n",
    "import numpy as np\n",
    "import re"
   ]
  },
  {
   "cell_type": "markdown",
   "metadata": {},
   "source": [
    "Get all the text from the first website, patch.com, which shows the California college rankings"
   ]
  },
  {
   "cell_type": "code",
   "execution_count": 68,
   "metadata": {},
   "outputs": [
    {
     "name": "stdout",
     "output_type": "stream",
     "text": [
      "https://patch.com/california/redwoodcity-woodside/list-top-colleges-california-according-latest-forbes-rankinghttps://patch.com/california/redwoodcity-woodside/list-top-colleges-california-according-latest-forbes-ranking\n"
     ]
    }
   ],
   "source": [
    "url = input(\"https://patch.com/california/redwoodcity-woodside/list-top-colleges-california-according-latest-forbes-ranking\")\n",
    "r  = rq.get(url)\n",
    "\n",
    "data = r.text\n",
    "\n",
    "soup = BeautifulSoup(data,\"html5lib\")"
   ]
  },
  {
   "cell_type": "markdown",
   "metadata": {},
   "source": [
    "Create an empty list called collegelist which will be used to append the college rankings web data to this list. Also create a ranking list so that we can order the colleges by their rankings"
   ]
  },
  {
   "cell_type": "code",
   "execution_count": 81,
   "metadata": {},
   "outputs": [],
   "source": [
    "collegeList = []\n",
    "rankingList = [1,2,3,4,5,6,7,8,9,10,11,12,13,14,15,16,17,18,19,20,21,22,23,24,25,26,27,28,29,30,31,32,33,34,35,36,37,38,39,40,41,42,43,44,45,46,47,48,49,50,51,52,53,54,55]"
   ]
  },
  {
   "cell_type": "markdown",
   "metadata": {},
   "source": [
    "Find the text with the a href tag and append it to the empty collegeList list"
   ]
  },
  {
   "cell_type": "code",
   "execution_count": 82,
   "metadata": {},
   "outputs": [],
   "source": [
    "for x in soup.find_all('a', href = True):\n",
    "    text = x.text\n",
    "    collegeList.append(text)"
   ]
  },
  {
   "cell_type": "markdown",
   "metadata": {},
   "source": [
    "Only take the rows that have colleges "
   ]
  },
  {
   "cell_type": "code",
   "execution_count": 83,
   "metadata": {},
   "outputs": [],
   "source": [
    "collegeList = collegeList[88:143]"
   ]
  },
  {
   "cell_type": "markdown",
   "metadata": {},
   "source": [
    "Turn the collegeRankings list to a dictionary and then turn it into a dataframe"
   ]
  },
  {
   "cell_type": "code",
   "execution_count": 84,
   "metadata": {},
   "outputs": [],
   "source": [
    "collegeRankings ={'Colleges':collegeList,'Ranking':rankingList}\n",
    "collegeRankings = pd.DataFrame.from_dict(collegeRankings)"
   ]
  },
  {
   "cell_type": "markdown",
   "metadata": {},
   "source": [
    "Export the college rankings to a csv to be uploaded to Tableau"
   ]
  },
  {
   "cell_type": "code",
   "execution_count": 85,
   "metadata": {},
   "outputs": [],
   "source": [
    "collegeRankings.to_csv(\"College_Rankings.csv\",index = False)"
   ]
  },
  {
   "cell_type": "markdown",
   "metadata": {},
   "source": [
    "Get all the data from the second website, indeed.com, that shows salaries for data analysts"
   ]
  },
  {
   "cell_type": "code",
   "execution_count": 358,
   "metadata": {},
   "outputs": [
    {
     "name": "stdout",
     "output_type": "stream",
     "text": [
      "https://www.indeed.com/salaries/Data-Analyst-Salarieshttps://www.indeed.com/salaries/Data-Analyst-Salaries\n"
     ]
    }
   ],
   "source": [
    "url = input(\"https://www.indeed.com/salaries/Data-Analyst-Salaries\")\n",
    "r2  = rq.get(url)\n",
    "\n",
    "data2 = r2.text\n",
    "\n",
    "soup = BeautifulSoup(data2,\"html5lib\")"
   ]
  },
  {
   "cell_type": "markdown",
   "metadata": {},
   "source": [
    "Create an empty list called salaryList and another one called companyList. These will be used to store data from the indeed website"
   ]
  },
  {
   "cell_type": "code",
   "execution_count": 402,
   "metadata": {},
   "outputs": [],
   "source": [
    "companyList = []\n",
    "salaryList = []"
   ]
  },
  {
   "cell_type": "markdown",
   "metadata": {},
   "source": [
    "Iterate through the website and find all the tags that store the company names. Append that to the companyList list"
   ]
  },
  {
   "cell_type": "code",
   "execution_count": 403,
   "metadata": {},
   "outputs": [],
   "source": [
    "for x in soup.find_all('a',{'data-tn-element':'title-cmp-salaries'}):\n",
    "    text = x.text\n",
    "    companyList.append(text)"
   ]
  },
  {
   "cell_type": "markdown",
   "metadata": {},
   "source": [
    "Next, iterate through the website again to find all the tags that store the related salary information. Append that to the salaryList list. Here we only want the tags that have dollar signs, so we are searching for anything with the $ symbol ('\\' is needed to escape that character so it doesn't think it's going until the end of the line)"
   ]
  },
  {
   "cell_type": "code",
   "execution_count": 405,
   "metadata": {},
   "outputs": [],
   "source": [
    "for y in soup.find_all('div',{'class':'cmp-sal-summary'}):\n",
    "    for z in y.find_all('span'):\n",
    "        text = z.text\n",
    "        if re.search(r'(.*)\\$(.*)', text):\n",
    "            salaryList.append(text)\n",
    "        else:\n",
    "            pass"
   ]
  },
  {
   "cell_type": "markdown",
   "metadata": {},
   "source": [
    "Ignore the first salary, which is the average salary"
   ]
  },
  {
   "cell_type": "code",
   "execution_count": 406,
   "metadata": {},
   "outputs": [
    {
     "data": {
      "text/plain": [
       "'$70,066'"
      ]
     },
     "execution_count": 406,
     "metadata": {},
     "output_type": "execute_result"
    }
   ],
   "source": [
    "salaryList.pop(0)"
   ]
  },
  {
   "cell_type": "markdown",
   "metadata": {},
   "source": [
    "Turn the companyList and salaryList lists to dictionaries, then turn them into a dataframe with 2 columns"
   ]
  },
  {
   "cell_type": "code",
   "execution_count": 408,
   "metadata": {},
   "outputs": [],
   "source": [
    "analystSalaries ={'Company':companyList,'Salary':salaryList}\n",
    "analystSalaries = pd.DataFrame.from_dict(analystSalaries)"
   ]
  },
  {
   "cell_type": "markdown",
   "metadata": {},
   "source": [
    "Export the salaries to csv to be uploaded to Tableau"
   ]
  },
  {
   "cell_type": "code",
   "execution_count": 410,
   "metadata": {},
   "outputs": [],
   "source": [
    "analystSalaries.to_csv('Analyst Salaries.csv',index = False)"
   ]
  },
  {
   "cell_type": "markdown",
   "metadata": {},
   "source": [
    "Bring in the MSIS Skills excel document and put it in the dataframe, Skills"
   ]
  },
  {
   "cell_type": "code",
   "execution_count": 49,
   "metadata": {},
   "outputs": [],
   "source": [
    "Skills = pd.read_excel('MSIS Skills.xls')"
   ]
  },
  {
   "cell_type": "markdown",
   "metadata": {},
   "source": [
    "Split the data by the space to get the skills and the totals separated. After that, rename the columns to be skills and totals"
   ]
  },
  {
   "cell_type": "code",
   "execution_count": 54,
   "metadata": {},
   "outputs": [],
   "source": [
    "studentSkills = lambda x: pd.Series([i for i in reversed(x.split())])\n",
    "studentSkills = Skills['What they are skilled at'].apply(test)\n",
    "studentSkills.rename(columns={0:'Skills',1:'Total'},inplace=True)\n",
    "studentSkills = studentSkills[['Skills','Total']]"
   ]
  },
  {
   "cell_type": "markdown",
   "metadata": {},
   "source": [
    "Export it to csv to be uploaded to Tableau"
   ]
  },
  {
   "cell_type": "code",
   "execution_count": 56,
   "metadata": {},
   "outputs": [],
   "source": [
    "studentSkills.to_csv('MSIS Skills.csv',index = False)"
   ]
  }
 ],
 "metadata": {
  "kernelspec": {
   "display_name": "Python 3",
   "language": "python",
   "name": "python3"
  },
  "language_info": {
   "codemirror_mode": {
    "name": "ipython",
    "version": 3
   },
   "file_extension": ".py",
   "mimetype": "text/x-python",
   "name": "python",
   "nbconvert_exporter": "python",
   "pygments_lexer": "ipython3",
   "version": "3.6.2"
  }
 },
 "nbformat": 4,
 "nbformat_minor": 2
}
